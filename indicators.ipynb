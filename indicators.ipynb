{
 "cells": [
  {
   "cell_type": "markdown",
   "id": "38fd74c4-26cf-4a86-9d45-ccf08d43ed65",
   "metadata": {},
   "source": [
    "# 技术指标"
   ]
  },
  {
   "cell_type": "code",
   "execution_count": null,
   "id": "dd04ad26-8f1c-439a-8f7b-dd3fba568a6a",
   "metadata": {},
   "outputs": [],
   "source": [
    "# 添加运行库\n",
    "import pandas as pd\n",
    "import numpy as np"
   ]
  },
  {
   "cell_type": "markdown",
   "id": "fb8c0760",
   "metadata": {},
   "source": [
    "### 移动平均线（moving average，MA）\n",
    "***在统计学中是一种通过创建整个数据集中不同子集的一系列平均数来分析数据点的计算方法***\n",
    "\n",
    "变化包括：简单移动平均线、指数移动平均线、加权移动平均线，以及累积移动平均线。"
   ]
  },
  {
   "cell_type": "markdown",
   "id": "7556353b",
   "metadata": {},
   "source": [
    "## 乖离率（Bias Ratio，BIAS）\n",
    "***代表当日股票收盘价或盘中市价与移动平均线（MA）的差距，以分析股价偏离某时期平均价（平均成本）的程度。***\n",
    "\n",
    "乖离率可视作某时期的平均报酬率。乖离率是由葛兰碧移动均线八大法则（J.Granville Rules）所延伸的技术指标，其判断依据为股价偏离移动平均线很远时，会转而趋向移动平均线；但葛兰碧法则并未论述偏移程度应达到多少，股价才会向移动平均线靠近。\n",
    "\n",
    "乖离率可分为正乖离率与负乖离率，若股价在移动平均线之上，称为正乖离率；股价在移动平均线之下，则为负乖离率。\n",
    "\n",
    "当股价与移动平均线的差距越远时，乖离率的绝对值越大（乖离率可正可负），代表乖离越大，股价即将有修正偏离的可能；当乖离率呈现正值过大或负值过大的情况时，股价均会产生反转的修正走势。\n",
    "\n",
    "**正乖离**越正表示**超买**（Overbought），将有下跌的压力；**负乖离**越负表示**超卖**（Oversold），将有上升的动能，此时股价将有向平均成本移动调整的机会。\n",
    "\n",
    "<br>\n",
    "\n",
    "### 乖离率\n",
    "---\n",
    "$$ nBIAS = \\frac{Close-MA_n}{MA_n} \\times 100\\% $$\n",
    "\n",
    "【注】\n",
    "1. $nBIAS$为n日乖离线；\n",
    "2. $Close$为当日收盘价；\n",
    "3. MA为移动平均价、$MA_n$为n日移动平均线，n依需求自定日数，一般设定为3日和6日。\n",
    "\n",
    "<br>\n",
    "\n",
    "### 均线乖离率\n",
    "---\n",
    "均线乖离率的概念是根据长短天期移动平均线的差值来决定多空的方向。如果股价在长天期均线之上则作多；反之股价在长天期均线之下则作空或空手。\n",
    "\n",
    "$$ BIAS_{(MA)} = \\frac{MA_{short} - MA_{long}}{MA_{long}} \\times 100\\% $$\n",
    "\n",
    "【注】\n",
    "1. $BIAS_{(MA)}$：均线乖离率；\n",
    "2. $MA_{short}$为短天期均线、$MA_{long}$为长天期均线。\n",
    "\n",
    "<br>\n",
    "\n",
    "### n-mBIAS\n",
    "---\n",
    "$$ n-mBIAS = nBIAS - mBIAS $$\n",
    "\n",
    "短天期的乖离率减去长天期的乖离率来分析趋势，一般会采用的天数为3天和6天。\n",
    "\n",
    "当3BIAS与6BIAS交叉时，3-6BIAS会趋近于0，此点即为**支撑点**或**压力点**，此时可以视为买卖信号。不过3-6AIBS会有信号过多的问题，实际操作上可以拉长平均天数来使用（例如：10天和25天）。"
   ]
  },
  {
   "cell_type": "markdown",
   "id": "ea0bec86",
   "metadata": {},
   "source": [
    "### 布林带"
   ]
  },
  {
   "cell_type": "markdown",
   "id": "8c98f22e",
   "metadata": {},
   "source": [
    "### 成交量"
   ]
  },
  {
   "cell_type": "markdown",
   "id": "e2ba367c",
   "metadata": {},
   "source": [
    "### rsi"
   ]
  }
 ],
 "metadata": {
  "kernelspec": {
   "display_name": "Python 3",
   "language": "python",
   "name": "python3"
  },
  "language_info": {
   "codemirror_mode": {
    "name": "ipython",
    "version": 3
   },
   "file_extension": ".py",
   "mimetype": "text/x-python",
   "name": "python",
   "nbconvert_exporter": "python",
   "pygments_lexer": "ipython3",
   "version": "3.11.10"
  }
 },
 "nbformat": 4,
 "nbformat_minor": 5
}
