{
 "cells": [
  {
   "cell_type": "markdown",
   "id": "38fd74c4-26cf-4a86-9d45-ccf08d43ed65",
   "metadata": {},
   "source": [
    "# 技术指标"
   ]
  },
  {
   "cell_type": "code",
   "execution_count": 1,
   "id": "dd04ad26-8f1c-439a-8f7b-dd3fba568a6a",
   "metadata": {},
   "outputs": [
    {
     "ename": "ModuleNotFoundError",
     "evalue": "No module named 'pandas'",
     "output_type": "error",
     "traceback": [
      "\u001b[1;31m---------------------------------------------------------------------------\u001b[0m",
      "\u001b[1;31mModuleNotFoundError\u001b[0m                       Traceback (most recent call last)",
      "Cell \u001b[1;32mIn[1], line 2\u001b[0m\n\u001b[0;32m      1\u001b[0m \u001b[38;5;66;03m# 添加运行库\u001b[39;00m\n\u001b[1;32m----> 2\u001b[0m \u001b[38;5;28;01mimport\u001b[39;00m \u001b[38;5;21;01mpandas\u001b[39;00m \u001b[38;5;28;01mas\u001b[39;00m \u001b[38;5;21;01mpd\u001b[39;00m\n\u001b[0;32m      3\u001b[0m \u001b[38;5;28;01mimport\u001b[39;00m \u001b[38;5;21;01mnumpy\u001b[39;00m \u001b[38;5;28;01mas\u001b[39;00m \u001b[38;5;21;01mnp\u001b[39;00m\n",
      "\u001b[1;31mModuleNotFoundError\u001b[0m: No module named 'pandas'"
     ]
    }
   ],
   "source": [
    "# 添加运行库\n",
    "import pandas as pd\n",
    "import numpy as np"
   ]
  },
  {
   "cell_type": "markdown",
   "id": "7556353b",
   "metadata": {},
   "source": [
    "### 乖离率（Bias Ratio，BIAS）\n",
    "***该指标用于表示当日股票收盘价或盘中市价与移动平均线（MA）的差距，以分析股价偏离某时期平均价（平均成本）的程度。***\n",
    "\n",
    "乖离率可视作某时期的平均报酬率。乖离率是由葛兰碧移动均线八大法则（J.Granville Rules）所延伸的技术指标，其判断依据为股价偏离移动平均线很远时，会转而趋向移动平均线；但葛兰碧法则并未论述偏移程度应达到多少，股价才会向移动平均线靠近。\n",
    "\n",
    "乖离率可分为正乖离率与负乖离率，若股价在移动平均线之上，称为正乖离率；股价在移动平均线之下，则为负乖离率。\n",
    "\n",
    "当股价与移动平均线的差距越远时，乖离率的绝对值越大（乖离率可正可负），代表乖离越大，股价即将有修正偏离的可能；当乖离率呈现正值过大或负值过大的情况时，股价均会产生反转的修正走势。\n"
   ]
  },
  {
   "cell_type": "markdown",
   "id": "ea0bec86",
   "metadata": {},
   "source": [
    "### 布林带"
   ]
  }
 ],
 "metadata": {
  "kernelspec": {
   "display_name": "Python 3",
   "language": "python",
   "name": "python3"
  },
  "language_info": {
   "codemirror_mode": {
    "name": "ipython",
    "version": 3
   },
   "file_extension": ".py",
   "mimetype": "text/x-python",
   "name": "python",
   "nbconvert_exporter": "python",
   "pygments_lexer": "ipython3",
   "version": "3.11.10"
  }
 },
 "nbformat": 4,
 "nbformat_minor": 5
}
